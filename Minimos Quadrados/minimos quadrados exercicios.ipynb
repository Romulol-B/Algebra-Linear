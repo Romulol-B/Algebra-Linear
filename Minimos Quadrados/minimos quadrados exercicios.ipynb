{
 "cells": [
  {
   "cell_type": "markdown",
   "metadata": {},
   "source": [
    "# <font color='blue'>Álgebra Linear</font>\n",
    "\n",
    "## <font color='blue'>Mínimos Quadrados</font>\n",
    "\n",
    "### <font color='blue'>Exercícios</font>\n",
    "\n",
    "#### Material produzido por Luis Gustavo Nonato\n",
    "#### ICMC-USP\n",
    "---"
   ]
  },
  {
   "cell_type": "code",
   "execution_count": 2,
   "metadata": {},
   "outputs": [],
   "source": [
    "import numpy as np\n",
    "import matplotlib.pyplot as plt"
   ]
  },
  {
   "cell_type": "markdown",
   "metadata": {},
   "source": [
    "### Exercício 1)\n",
    "Considere a função $f(x)=\\exp(-x^2)$, $x\\in[0,1]$. Usando o método dos mínimos quadrados, aproxime a função $f(x)$ por um polinômio quadrático e por um polinômio cúbico. Verifique o erro médio quadrático em cada um dos casos."
   ]
  },
  {
   "cell_type": "code",
   "execution_count": null,
   "metadata": {},
   "outputs": [],
   "source": [
    "# Solução\n",
    "\n"
   ]
  },
  {
   "cell_type": "markdown",
   "metadata": {},
   "source": [
    "### Exercício 2)\n",
    "Considere as retas geradas pelas equações paramétricas\n",
    "$$\n",
    "\\begin{matrix}\n",
    "\\mathbf{r}_1(t)=\\mathbf{a}+t\\mathbf{v}_1\\\\\n",
    "\\mathbf{r}_2(t)=\\mathbf{b}+t\\mathbf{v}_2\n",
    "\\end{matrix}\n",
    "$$\n",
    "onde $\\mathbf{a}=[1,1,1]$, $\\mathbf{b}=[-1,-1,-1]$ são pontos por onde as retas passam e $\\mathbf{v}_1=[0,1,0.5]$, $\\mathbf{v}_2=[0.5,-1,1]$ são os vetores diretores das retas. O código abaixo ilustra as retas e suas posições no espaço. Calcule a distância entre as retas $\\mathbf{r}_1$ e $\\mathbf{r}_2$."
   ]
  },
  {
   "cell_type": "code",
   "execution_count": 27,
   "metadata": {},
   "outputs": [
    {
     "data": {
      "text/plain": [
       "[<mpl_toolkits.mplot3d.art3d.Line3D at 0x177e93230>]"
      ]
     },
     "execution_count": 27,
     "metadata": {},
     "output_type": "execute_result"
    }
   ],
   "source": [
    "import numpy as np\n",
    "import matplotlib.pyplot as plt\n",
    "from mpl_toolkits.mplot3d import Axes3D\n",
    "%matplotlib qt \n",
    "\n",
    "# elementos que definem a reta\n",
    "a = np.array([1,1,1]).reshape(3,1)\n",
    "v1 = np.array([0,1,0.5]).reshape(3,1)\n",
    "\n",
    "b = np.array([-1,-1,-1]).reshape(3,1)\n",
    "v2 = np.array([0.5,-1,1]).reshape(3,1)\n",
    "\n",
    "# gerando pontos sobre as retas\n",
    "t = np.linspace(-2,2,5)\n",
    "r1 = a+t*v1\n",
    "r2 = b+t*v2\n",
    "\n",
    "# plotando as retas\n",
    "fig1 = plt.figure()\n",
    "ax1 = fig1.add_subplot(111,projection='3d')\n",
    "\n",
    "ax1.plot(r1[0],r1[1],r1[2],color='r')\n",
    "ax1.plot(r2[0],r2[1],r2[2],color='r')"
   ]
  },
  {
   "cell_type": "code",
   "execution_count": 39,
   "metadata": {},
   "outputs": [
    {
     "data": {
      "text/plain": [
       "[<mpl_toolkits.mplot3d.art3d.Line3D at 0x296ed6d20>]"
      ]
     },
     "execution_count": 39,
     "metadata": {},
     "output_type": "execute_result"
    }
   ],
   "source": [
    "#Solução\n"
   ]
  },
  {
   "cell_type": "markdown",
   "metadata": {},
   "source": [
    "### Exercício 3)\n",
    "Encontre a matriz de projeção ortogonal de pontos em $\\mathbb{R}^3$ sobre o plano dado pela equação $2x-y-z+3=0$. Faça o gráfico do plano e de um conjunto de pontos projetados sobre ele."
   ]
  },
  {
   "cell_type": "code",
   "execution_count": null,
   "metadata": {},
   "outputs": [],
   "source": [
    "# Solução\n",
    "\n"
   ]
  },
  {
   "cell_type": "markdown",
   "metadata": {},
   "source": [
    "### Exercício 4)\n",
    "O método dos mínimos quadrados pode ser difícil de resolver quando as colunas da matriz são quase linearmente dependentes, pois a solução do sistema de equações normais pode ficar instável. A solução típica para este problema é encontrar uma base ortogonal (ortonormal) para o espaço coluna da matriz e utilizar esta base na solução de mínimos quadrados.\n",
    "\n",
    "Dada a matriz $X$ construída no código abaixo (a segunda coluna é uma perturbação da primeira), encontre uma base ortogonal para as colunas de $X$ e projete o ponto $\\mathbf{b}=[1,1,1,1,1]$ sobre o espaço coluna."
   ]
  },
  {
   "cell_type": "code",
   "execution_count": null,
   "metadata": {},
   "outputs": [],
   "source": [
    "X = np.random.uniform(0,1,size=(5,2))\n",
    "X[:,1] = X[:,0] + np.random.uniform(-0.001,0.001,X.shape[0])\n",
    "\n",
    "b = np.array([1,1,1,1,1])"
   ]
  },
  {
   "cell_type": "code",
   "execution_count": null,
   "metadata": {},
   "outputs": [],
   "source": [
    "#Solução"
   ]
  },
  {
   "cell_type": "markdown",
   "metadata": {},
   "source": [
    "**Obs:** Tente resolver as equações normais utilizando diretamente a matriz $\\mathbf{X}$ e veja o que acontece."
   ]
  }
 ],
 "metadata": {
  "kernelspec": {
   "display_name": "Python 3 (ipykernel)",
   "language": "python",
   "name": "python3"
  },
  "language_info": {
   "codemirror_mode": {
    "name": "ipython",
    "version": 3
   },
   "file_extension": ".py",
   "mimetype": "text/x-python",
   "name": "python",
   "nbconvert_exporter": "python",
   "pygments_lexer": "ipython3",
   "version": "3.12.7"
  }
 },
 "nbformat": 4,
 "nbformat_minor": 4
}
