{
 "cells": [
  {
   "cell_type": "markdown",
   "metadata": {},
   "source": [
    "# <font color='blue'>Revisão Álgebra Linear</font>\n",
    "\n",
    "## <font color='blue'>Mínimos Quadrados</font>\n",
    "\n",
    "### <font color='blue'>Solução dos Exercícios</font>\n",
    "\n",
    "#### Material produzido por Luis Gustavo Nonato\n",
    "#### ICMC-USP\n",
    "---"
   ]
  },
  {
   "cell_type": "code",
   "execution_count": 1,
   "metadata": {},
   "outputs": [],
   "source": [
    "import numpy as np\n",
    "import matplotlib.pyplot as plt"
   ]
  },
  {
   "cell_type": "markdown",
   "metadata": {},
   "source": [
    "### Exercício 1)\n",
    "Considere a função $f(x)=\\exp(-x^2)$, $x\\in[0,1]$. Usando o método dos mínimos quadrados, aproxime a função $f(x)$ por um polinômio quadrático e por um polinômio cúbico. Verifique o erro médio quadrático em cada um dos casos."
   ]
  },
  {
   "cell_type": "code",
   "execution_count": 21,
   "metadata": {},
   "outputs": [
    {
     "name": "stdout",
     "output_type": "stream",
     "text": [
      "0.0001268328929439092 1.3399915608756554e-07\n"
     ]
    },
    {
     "data": {
      "image/png": "[encoded data removed]",
      "text/plain": [
       "<Figure size 432x288 with 1 Axes>"
      ]
     },
     "metadata": {
      "needs_background": "light"
     },
     "output_type": "display_data"
    }
   ],
   "source": [
    "# Solução\n",
    "\n",
    "t = np.linspace(0,1,100)\n",
    "f = np.exp(-t**2)\n",
    "\n",
    "plt.plot(t,f,color='blue')\n",
    "\n",
    "# polinômio quadratico, montando a matriz \n",
    "Aq = np.ones((t.shape[0],3))\n",
    "Aq[:,1] = t\n",
    "Aq[:,2] = t**2\n",
    "\n",
    "# polinômio cubico, montando a matriz \n",
    "Ac = np.ones((t.shape[0],4))\n",
    "Ac[:,1] = t\n",
    "Ac[:,2] = t**2\n",
    "Ac[:,3] = t**3\n",
    "\n",
    "# Resolvendo as equações normais\n",
    "alphaq = np.linalg.solve(np.dot(Aq.T,Aq),np.dot(Aq.T,f))\n",
    "alphac = np.linalg.solve(np.dot(Ac.T,Ac),np.dot(Ac.T,f))\n",
    "\n",
    "yq = np.dot(Aq,alphaq)\n",
    "yc = np.dot(Ac,alphac)\n",
    "\n",
    "plt.plot(t,yq,color='red')\n",
    "plt.plot(t,yc,color='orange')\n",
    "\n",
    "Erroq = (np.linalg.norm(yq-f)**2)/t.shape[0]\n",
    "Erroc = (np.linalg.norm(yc-f)**2)/t.shape[0]\n",
    "\n",
    "print(Erroq,Erroc)"
   ]
  },
  {
   "cell_type": "markdown",
   "metadata": {},
   "source": [
    "### Exercício 2)\n",
    "Considere as retas geradas pelas equações paramétricas\n",
    "$$\n",
    "\\begin{matrix}\n",
    "\\mathbf{r}_1(t)=\\mathbf{a}+t\\mathbf{v}_1\\\\\n",
    "\\mathbf{r}_2(t)=\\mathbf{b}+t\\mathbf{v}_2\n",
    "\\end{matrix}\n",
    "$$\n",
    "onde $\\mathbf{a}=[1,1,1]$, $\\mathbf{b}=[-1,-1,-1]$ são pontos por onde as retas passam e $\\mathbf{v}_1=[0,1,0.5]$, $\\mathbf{v}_2=[0.5,-1,1]$ são os vetores diretores das retas. O código abaixo ilustra as retas e suas posições no espaço. Calcule a distância entre as retas $\\mathbf{r}_1$ e $\\mathbf{r}_2$."
   ]
  },
  {
   "cell_type": "code",
   "execution_count": 1,
   "metadata": {},
   "outputs": [
    {
     "data": {
      "text/plain": [
       "[<mpl_toolkits.mplot3d.art3d.Line3D at 0x1111a19a0>]"
      ]
     },
     "execution_count": 1,
     "metadata": {},
     "output_type": "execute_result"
    }
   ],
   "source": [
    "import numpy as np\n",
    "import matplotlib.pyplot as plt\n",
    "from mpl_toolkits.mplot3d import Axes3D\n",
    "%matplotlib qt \n",
    "\n",
    "# elementos que definem a reta\n",
    "a = np.array([1,1,1]).reshape(3,1)\n",
    "v1 = np.array([0,1,0.5]).reshape(3,1)\n",
    "\n",
    "b = np.array([-1,-1,-1]).reshape(3,1)\n",
    "v2 = np.array([0.5,-1,1]).reshape(3,1)\n",
    "\n",
    "# gerando pontos sobre as retas\n",
    "t = np.linspace(-2,2,5)\n",
    "r1 = a+t*v1\n",
    "r2 = b+t*v2\n",
    "\n",
    "# plotando as retas\n",
    "fig1 = plt.figure()\n",
    "ax1 = fig1.add_subplot(111,projection='3d')\n",
    "\n",
    "ax1.plot(r1[0],r1[1],r1[2],color='r')\n",
    "ax1.plot(r2[0],r2[1],r2[2],color='r')"
   ]
  },
  {
   "cell_type": "code",
   "execution_count": 3,
   "metadata": {},
   "outputs": [
    {
     "data": {
      "text/plain": [
       "[<mpl_toolkits.mplot3d.art3d.Line3D at 0x17c068aa0>]"
      ]
     },
     "execution_count": 3,
     "metadata": {},
     "output_type": "execute_result"
    }
   ],
   "source": [
    "#Solução\n",
    "\n",
    "#temos que os vetores diretores geram um plano paralelo as duas retas\n",
    "# gerando o plano \n",
    "normal_t = np.cross(v1.ravel(),v2.ravel())\n",
    "normal_t = normal_t/np.linalg.norm(normal_t)\n",
    "xx, yy = np.meshgrid(range(-3,3), range(-3,3))\n",
    "zz = -(normal_t[0] * xx + normal_t[1] * yy)/normal_t[2]\n",
    "\n",
    "fig2 = plt.figure()\n",
    "ax2 = fig2.add_subplot(111,projection='3d')\n",
    "ax2.plot_surface(xx, yy, zz, alpha=0.2)\n",
    "ax2.plot(r1[0],r1[1],r1[2],color='r')\n",
    "ax2.plot(r2[0],r2[1],r2[2],color='r')"
   ]
  },
  {
   "cell_type": "code",
   "execution_count": 8,
   "metadata": {},
   "outputs": [
    {
     "name": "stdout",
     "output_type": "stream",
     "text": [
      "A distancia entre as retas é 1.5617\n"
     ]
    },
    {
     "data": {
      "text/plain": [
       "Text(1.2682926829268295, 0.8780487804878047, '1.56')"
      ]
     },
     "execution_count": 8,
     "metadata": {},
     "output_type": "execute_result"
    }
   ],
   "source": [
    "# Transladando as retas para que r2 esteja contida no plano\n",
    "b_t = -b\n",
    "r1_t = r1 + b_t\n",
    "r2_t = r2 + b_t\n",
    "\n",
    "fig3 = plt.figure()\n",
    "ax3 = fig3.add_subplot(111,projection='3d')\n",
    "ax3.plot_surface(xx, yy, zz, alpha=0.2)\n",
    "ax3.plot(r1_t[0],r1_t[1],r1_t[2],color='r')\n",
    "ax3.plot(r2_t[0],r2_t[1],r2_t[2],color='r')\n",
    "\n",
    "# Calculando a projeção de um ponto de r1 no plano que contém r2\n",
    "A = np.zeros((3,2))\n",
    "A[:,0] = v1.ravel()\n",
    "A[:,1] = v2.ravel()\n",
    "\n",
    "x = np.linalg.solve(A.T@A,A.T@r1_t[:,1])\n",
    "p = A@x\n",
    "\n",
    "ax3.scatter(p[0],p[1],p[2],color='black',s=7)\n",
    "ax3.scatter(r1_t[0,1],r1_t[1,1],r1_t[2,1],color='black',s=7)\n",
    "\n",
    "# Calculando a distancia entre as retas\n",
    "dist_r1_r2 = np.linalg.norm(p-r1_t[:,1])\n",
    "print(f\"A distancia entre as retas é {dist_r1_r2:.2f}\")\n",
    "pos = p+0.5*dist_r1_r2*normal_t\n",
    "ax3.text(pos[0],pos[1],pos[2],f\"{dist_r1_r2:.2f}\")"
   ]
  },
  {
   "cell_type": "markdown",
   "metadata": {},
   "source": [
    "### Exercício 3)\n",
    "Encontre a matriz de projeção ortogonal de pontos em $\\mathbb{R}^3$ sobre o plano dado pela equação $2x-y-z+3=0$. Faça o gráfico do plano e de um conjunto de pontos projetados sobre ele."
   ]
  },
  {
   "cell_type": "code",
   "execution_count": 10,
   "metadata": {},
   "outputs": [
    {
     "data": {
      "text/plain": [
       "<mpl_toolkits.mplot3d.art3d.Line3DCollection at 0x2823fee70>"
      ]
     },
     "execution_count": 10,
     "metadata": {},
     "output_type": "execute_result"
    }
   ],
   "source": [
    "# Solução\n",
    "\n",
    "import numpy as np\n",
    "import matplotlib.pyplot as plt\n",
    "from mpl_toolkits.mplot3d import Axes3D\n",
    "%matplotlib qt \n",
    "\n",
    "# Vamos encontrar uma base para o espaço correspondendo ao plano 2x-y-z+1=0\n",
    "# e armazena-la como colunas de uma matriz A\n",
    "# z = 2x-y+3\n",
    "# pegamos 3 pontos no plano e geramos os vetores\n",
    "\n",
    "p1 = np.array([0,1,2])\n",
    "p2 = np.array([1,0,5])\n",
    "p3 = np.array([1,1,4])\n",
    "v1 = p2 - p1\n",
    "v2 = p3 - p1\n",
    "\n",
    "A = np.zeros((3,2))\n",
    "A[:,0] = v1\n",
    "A[:,1] = v2\n",
    "\n",
    "# gerando o plano \n",
    "normal_t = np.cross(A[:,0],A[:,1])\n",
    "xx, yy = np.meshgrid(range(-3,3), range(-3,3))\n",
    "zz = -(normal_t[0] * xx + normal_t[1] * yy)/normal_t[2]\n",
    "\n",
    "# plot do plano\n",
    "fig1 = plt.figure()\n",
    "ax1 = fig1.add_subplot(111,projection='3d')\n",
    "ax1.plot_surface(xx, yy, zz, alpha=0.2)\n",
    "\n",
    "# plot da origem\n",
    "ax1.scatter(0,0,0,s=25,color='k')\n",
    "\n",
    "# plot dos vetores base do plano\n",
    "x1 = A[:,0]/np.linalg.norm(A[:,0])\n",
    "x2 = A[:,1]/np.linalg.norm(A[:,1])\n",
    "ax1.quiver(0, 0, 0, x1[0],x1[1],x1[2],color='blue')\n",
    "ax1.quiver(0, 0, 0, x2[0],x2[1],x2[2],color='red')"
   ]
  },
  {
   "cell_type": "code",
   "execution_count": 11,
   "metadata": {},
   "outputs": [
    {
     "data": {
      "text/plain": [
       "<mpl_toolkits.mplot3d.art3d.Line3DCollection at 0x283484320>"
      ]
     },
     "execution_count": 11,
     "metadata": {},
     "output_type": "execute_result"
    }
   ],
   "source": [
    "# Definindo 5 pontos quaisque em R3\n",
    "B = np.random.uniform(-2.9,2.9,size=(3,5))\n",
    "\n",
    "# Transladando os pontos de acordo com a translação do plano\n",
    "B_t = B.copy()\n",
    "B_t = B_t - p1.reshape(3,1)\n",
    "\n",
    "# Projetando os pontos sobre o plano\n",
    "# encontrando os coeficientes de cada ponto\n",
    "x = np.linalg.solve(np.dot(A.T,A),np.dot(A.T,B_t))\n",
    "\n",
    "# encontrando as projeções\n",
    "P = np.dot(A,x)\n",
    "\n",
    "# Transladando os pontos de modo a corresponder a projeção dos pontos originais\n",
    "P = P + p1.reshape(3,1)\n",
    "\n",
    "ax1.plot_surface(xx+p1[0], yy+p1[1], zz+p1[2], alpha=0.2)\n",
    "\n",
    "# plot da origem\n",
    "ax1.scatter(0,0,0,s=25,color='k')\n",
    "\n",
    "# Plot dos pontos originais\n",
    "ax1.scatter(B[0,:],B[1,:],B[2,:],s=25,color='red')\n",
    "    \n",
    "# Plot dos pontos projetados\n",
    "ax1.scatter(P[0,:],P[1,:],P[2,:],s=25,color='blue')\n",
    "    \n",
    "# Plot das distancias\n",
    "for i in range(B.shape[1]):\n",
    "    ax1.plot([P[0,i],B[0,i]],[P[1,i],B[1,i]],[P[2,i],B[2,i]],color='k',linestyle='--')\n",
    "    \n",
    "    \n",
    "ax1.quiver(p1[0],p1[1],p1[2],normal_t[0],normal_t[1],normal_t[2],color='k')"
   ]
  },
  {
   "cell_type": "markdown",
   "metadata": {},
   "source": [
    "### Exercício 4)\n",
    "O método dos mínimos quadrados pode ser difícil de resolver quando as colunas da matriz são quase linearmente dependentes, pois a solução do sistema de equações normais pode ficar instável. A solução típica para este problema é encontrar uma base ortogonal (ortonormal) para o espaço coluna da matriz e utilizar esta base na solução de mínimos quadrados.\n",
    "\n",
    "Dada a matriz $X$ construída no código abaixo (a segunda coluna é uma perturbação da primeira), encontre uma base ortogonal para as colunas de $X$ e projete o ponto $\\mathbf{b}=[1,1,1,1,1]$ sobre o espaço coluna."
   ]
  },
  {
   "cell_type": "code",
   "execution_count": 32,
   "metadata": {},
   "outputs": [],
   "source": [
    "import numpy as np\n",
    "\n",
    "X = np.random.uniform(0,1,size=(5,2))\n",
    "X[:,1] = X[:,0] + np.random.uniform(-1e-7,1e-7,X.shape[0])\n",
    "\n",
    "b = np.array([1,1,1,1,1])"
   ]
  },
  {
   "cell_type": "markdown",
   "metadata": {},
   "source": [
    "**Solução**\n",
    "\n",
    "Para encontrar a base ortogonal basta calcularmos a decomposição QR da matriz $\\mathbf{X}$.\n",
    "\n",
    "$$\n",
    "\\begin{matrix}\n",
    "\\mathbf{X}=\\mathbf{Q}\\mathbf{R}\\\\\n",
    "\\downarrow\\\\\n",
    "\\mathbf{X}^\\top\\mathbf{X}\\alpha=\\mathbf{X}^\\top\\mathbf{b}\\\\\n",
    "\\downarrow\\\\\n",
    "(\\mathbf{Q}\\mathbf{R})^\\top(\\mathbf{Q}\\mathbf{R})\\alpha = (\\mathbf{Q}\\mathbf{R})^\\top\\mathbf{b}\\\\\n",
    "\\downarrow\\\\\n",
    "\\mathbf{R}^\\top\\mathbf{Q}^\\top\\mathbf{Q}\\mathbf{R}\\alpha = \\mathbf{R}^\\top\\mathbf{Q}^\\top\\mathbf{b}\\\\\n",
    "\\downarrow\\\\\n",
    "\\mathbf{R}^\\top\\mathbf{R}\\mathbf{\\alpha}=\\mathbf{R}^\\top\\mathbf{Q}^\\top\\mathbf{b}\\\\\n",
    "\\downarrow\\\\\n",
    "\\mathbf{R}\\mathbf{\\alpha}=\\mathbf{Q}^\\top\\mathbf{b}\n",
    "\\end{matrix}\n",
    "$$\n",
    "\n",
    "Note que a matriz $\\mathbf{R}$ é quadrada com colunas LI, logo o sistema pode ser resolvido diretamente. A projeção de $\\mathbf{b}$ será dada por \n",
    "\n",
    "$$\n",
    "\\mathbf{p} = \\mathbf{Q}\\mathbf{R}\\mathbf{\\alpha}\\rightarrow \\mathbf{p} =\\mathbf{X}\\mathbf{\\alpha}\n",
    "$$"
   ]
  },
  {
   "cell_type": "code",
   "execution_count": 33,
   "metadata": {},
   "outputs": [
    {
     "name": "stdout",
     "output_type": "stream",
     "text": [
      "dimensao de Q (5, 2)\n",
      "dimensao de R (2, 2)\n",
      "[-6690445.15366532  6690447.01496198]\n",
      "[0.69521205 1.42495238 0.74140561 0.40033543 1.036792  ]\n"
     ]
    }
   ],
   "source": [
    "# Calculando a decomposição QR\n",
    "\n",
    "Q,R = np.linalg.qr(X)\n",
    "print('dimensao de Q',Q.shape)\n",
    "print('dimensao de R',R.shape)\n",
    "\n",
    "# projetando o ponto b\n",
    "alpha = np.linalg.solve(R,np.dot(Q.T,b))\n",
    "print(alpha)\n",
    "p = np.dot(X,alpha)\n",
    "print(p)"
   ]
  },
  {
   "cell_type": "markdown",
   "metadata": {},
   "source": [
    "**Obs:** Tente resolver as equações normais utilizando diretamente a matriz $\\mathbf{X}$ e veja o que acontece."
   ]
  },
  {
   "cell_type": "code",
   "execution_count": 34,
   "metadata": {},
   "outputs": [
    {
     "name": "stdout",
     "output_type": "stream",
     "text": [
      "[-6693069.80858178  6693071.66981132]\n",
      "[0.69540636 1.42507204 0.74118273 0.40043147 1.03701834]\n"
     ]
    }
   ],
   "source": [
    "alpha2 = np.linalg.solve(np.dot(X.T,X),np.dot(X.T,b))\n",
    "print(alpha2)\n",
    "p2 = np.dot(X,alpha2)\n",
    "print(p2)"
   ]
  }
 ],
 "metadata": {
  "kernelspec": {
   "display_name": "Python 3 (ipykernel)",
   "language": "python",
   "name": "python3"
  },
  "language_info": {
   "codemirror_mode": {
    "name": "ipython",
    "version": 3
   },
   "file_extension": ".py",
   "mimetype": "text/x-python",
   "name": "python",
   "nbconvert_exporter": "python",
   "pygments_lexer": "ipython3",
   "version": "3.12.7"
  }
 },
 "nbformat": 4,
 "nbformat_minor": 4
}
